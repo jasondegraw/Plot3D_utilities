{
 "cells": [
  {
   "attachments": {},
   "cell_type": "markdown",
   "metadata": {},
   "source": [
    "# Translated Periodicity\n",
    "This is when you want to find how blocks connect to other blocks. A good example of this is a cube. \n",
    "\n",
    "![cube](images/block_overview.png)\n"
   ]
  },
  {
   "cell_type": "markdown",
   "metadata": {},
   "source": [
    "# Environment Setup\n",
    "This step is relatively short. Run the code below to install plot3d "
   ]
  },
  {
   "cell_type": "code",
   "execution_count": null,
   "metadata": {},
   "outputs": [],
   "source": [
    "!pip install plot3d"
   ]
  },
  {
   "attachments": {},
   "cell_type": "markdown",
   "metadata": {},
   "source": [
    "## Import some headers\n",
    "The code below are the functions from plot3d whcih will be used to find connectivity and periodicity. "
   ]
  },
  {
   "cell_type": "code",
   "execution_count": null,
   "metadata": {},
   "outputs": [],
   "source": [
    "import sys, os, pickle\n",
    "import numpy as np\n",
    "from plot3d import read_plot3D, connectivity_fast,translational_periodicity, block_connection_matrix, find_bounding_faces\n",
    "from plot3d import outer_face_dict_to_list, match_faces_dict_to_list"
   ]
  },
  {
   "cell_type": "code",
   "execution_count": null,
   "metadata": {},
   "outputs": [],
   "source": [
    "#%% Find connectivity \n",
    "def dump_data(data):\n",
    "    with open('block_data.pickle','wb') as f:\n",
    "        pickle.dump(data,f)\n",
    "\n",
    "def read_data():\n",
    "    with open('block_data.pickle','rb') as f:\n",
    "        return pickle.load(f)"
   ]
  },
  {
   "attachments": {},
   "cell_type": "markdown",
   "metadata": {},
   "source": [
    "## Download the Geometry\n",
    "Run the code below to download the geometry into your colab environment"
   ]
  },
  {
   "cell_type": "code",
   "execution_count": null,
   "metadata": {},
   "outputs": [],
   "source": [
    "!wget https://nasa-public-data.s3.amazonaws.com/plot3d_utilities/iso65_64blocks.xyz"
   ]
  },
  {
   "cell_type": "markdown",
   "metadata": {},
   "source": [
    "# Importing the mesh "
   ]
  },
  {
   "cell_type": "code",
   "execution_count": null,
   "metadata": {},
   "outputs": [],
   "source": [
    "\n",
    "blocks = read_plot3D('iso65_64blocks.xyz',True)\n",
    "\n",
    "if not os.path.exists(f'block_data.pickle'):    \n",
    "    print('Finding connectivity')\n",
    "    face_matches, outer_faces = connectivity_fast(blocks)\n",
    "    [m.pop('match',None) for m in face_matches] # Remove the dataframe\n",
    "    print('Organizing split and outerfaces')\n",
    "    all_faces = match_faces_dict_to_list(blocks,face_matches)\n",
    "    all_faces.extend(outer_face_dict_to_list(blocks,outer_faces))\n",
    "    all_faces = [m.to_dict() for m in all_faces]\n",
    "    data = {\n",
    "                \"face_matches\":face_matches, \n",
    "                \"outer_faces\":outer_faces,\n",
    "                \"all_faces\":all_faces\n",
    "            }\n",
    "    dump_data(data)\n",
    "    print('Creating block connection matrix')\n",
    "    c = block_connection_matrix(blocks,all_faces)\n",
    "    data[\"connectivity_matrix\"]=c\n",
    "    dump_data(data)\n",
    "\n",
    "data = read_data()    \n",
    "all_faces = data['all_faces']\n",
    "connectivity_matrix = data['connectivity_matrix']\n",
    "\n",
    "#%% Find bounding Faces\n",
    "forward_bound, backward_bound,_,_ = find_bounding_faces(blocks,connectivity_matrix,all_faces,\"x\")\n",
    "lower_bound, upper_bound,_,_ = find_bounding_faces(blocks,connectivity_matrix,all_faces,\"z\")\n",
    "left_bound, right_bound,_,_ = find_bounding_faces(blocks,connectivity_matrix,all_faces,\"y\")\n",
    "data['lower_bound'] = lower_bound\n",
    "data['upper_bound'] = upper_bound\n",
    "data['left_bound'] = left_bound\n",
    "data['right_bound'] = right_bound\n",
    "dump_data(data)\n",
    "\n",
    "#%% Use bounding faces to find periodicity\n",
    "data = read_data()\n",
    "lower_bound = data['lower_bound']; upper_bound = data['upper_bound']\n",
    "left_bound = data['left_bound']; right_bound = data['right_bound']\n",
    "x_periodic_faces_export, periodic_faces = translational_periodicity(blocks,forward_bound,backward_bound,translational_direction='x')\n",
    "y_periodic_faces_export, periodic_faces = translational_periodicity(blocks,left_bound,right_bound,translational_direction='y')\n",
    "z_periodic_faces_export, periodic_faces = translational_periodicity(blocks,lower_bound,upper_bound,translational_direction='z')\n",
    "data['x_periodic'] = z_periodic_faces_export\n",
    "data['z_periodic'] = z_periodic_faces_export\n",
    "data['y_periodic'] = y_periodic_faces_export\n",
    "dump_data(data)\n",
    "\n",
    "#%%  Lets check with faces are not periodic in the y-direction\n",
    "data = read_data()\n",
    "y_periodic_faces_export = data['y_periodic']\n",
    "left_bound = data['left_bound']; right_bound = data['right_bound']\n",
    "\n",
    "left_periodic_blocks_found = [p['block1']['block_index'] for p in y_periodic_faces_export]\n",
    "left_faces_missing = [l for l in left_bound if l['block_index'] not in left_periodic_blocks_found]\n",
    "print('Left faces missing')\n",
    "[print(l) for l in left_faces_missing]\n",
    "\n",
    "right_periodic_blocks_found = [p['block2']['block_index'] for p in y_periodic_faces_export]\n",
    "right_faces_missing = [r for r in right_bound if r['block_index'] not in right_periodic_blocks_found]\n",
    "print('Right faces missing')\n",
    "[print(r) for r in right_faces_missing]\n"
   ]
  }
 ],
 "metadata": {
  "kernelspec": {
   "display_name": "tf2",
   "language": "python",
   "name": "python3"
  },
  "language_info": {
   "name": "python",
   "version": "3.10.8"
  },
  "orig_nbformat": 4,
  "vscode": {
   "interpreter": {
    "hash": "2f8768af6f2432629ed2c7b1bb9f42f06f05a0e0aa992f83897492e57b393a9f"
   }
  }
 },
 "nbformat": 4,
 "nbformat_minor": 2
}
