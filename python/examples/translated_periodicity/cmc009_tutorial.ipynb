{
 "cells": [
  {
   "attachments": {},
   "cell_type": "markdown",
   "metadata": {},
   "source": [
    "# Translated Periodicity using the VSPT or CMC009 Turbine Geometry\n",
    "The mesh shown below has periodic faces on the z and y axis. The code below shows how we find the translated periodicity in the y and z directions.\n",
    "\n",
    "Steps Overview\n",
    "1. Find Connectivity - This splits the faces of all the blocks so that they match \n",
    "2. Build the Block connectivity matrix using connectivity - Uses the split faces to determine which blocks are connected. value of 1 = connected, 0 = not searched yet, -1 = not connected \n",
    "3. Search for connected faces on the z and y axis - Uses the block connectivity to find the outer connected faces. So, all the top faces for instance. \n",
    "4. Find translated periodicity - Uses the connected faces e.g. the left and right, or top and bottom, or front and back. Checks the connected faces to see if any of them match faces from the other side. \n",
    "\n",
    "![image.png](tutorial_images/cmc009-overview.png)"
   ]
  },
  {
   "cell_type": "code",
   "execution_count": null,
   "metadata": {},
   "outputs": [],
   "source": [
    "# Install Plot3D\n",
    "!pip install plot3d"
   ]
  },
  {
   "cell_type": "code",
   "execution_count": 2,
   "metadata": {},
   "outputs": [],
   "source": [
    "# Import functions\n",
    "import os, pickle\n",
    "from plot3d import read_plot3D, connectivity_fast,translational_periodicity, write_plot3D, Direction, split_blocks, block_connection_matrix, find_bounding_faces\n",
    "from plot3d import outer_face_dict_to_list, match_faces_dict_to_list\n",
    "\n",
    "data_file = 'cmc9_data.pickle'\n",
    "mesh_file = 'CMC009_fine_binary.xyz'\n",
    "# data_file = 'vspt_data.pickle'\n",
    "# mesh_file = '3DVSPT_inAtmp4OutAT2.xyz'\n",
    "#%% Find connectivity \n",
    "def dump_data(data):\n",
    "    with open(data_file,'wb') as f:\n",
    "        pickle.dump(data,f)\n",
    "\n",
    "def read_data():\n",
    "    with open(data_file,'rb') as f:\n",
    "        return pickle.load(f)\n"
   ]
  },
  {
   "cell_type": "code",
   "execution_count": 3,
   "metadata": {},
   "outputs": [
    {
     "name": "stdout",
     "output_type": "stream",
     "text": [
      "Number of blocks: 1438\n"
     ]
    }
   ],
   "source": [
    "# Load the mesh\n",
    "blocks = read_plot3D(mesh_file,True)\n",
    "n = len(blocks)\n",
    "print(f'Number of blocks: {n}')"
   ]
  },
  {
   "attachments": {},
   "cell_type": "markdown",
   "metadata": {},
   "source": [
    "## Step 1: Find Connectivity\n",
    "The code below finds the connectivity and creates the pickle file storing the connectivity "
   ]
  },
  {
   "cell_type": "code",
   "execution_count": 4,
   "metadata": {},
   "outputs": [
    {
     "name": "stdout",
     "output_type": "stream",
     "text": [
      "Finding connectivity\n",
      "gcd to use 16\n"
     ]
    },
    {
     "name": "stderr",
     "output_type": "stream",
     "text": [
      "Finding nearest blocks comparing 1436 with 1437: 100%|██████████| 1033203/1033203 [46:14<00:00, 372.43it/s]\n",
      "Checking connections block 1436 with 1437: 100%|██████████| 8607/8607 [05:59<00:00, 23.96it/s]\n"
     ]
    },
    {
     "name": "stdout",
     "output_type": "stream",
     "text": [
      "Organizing split and outerfaces\n"
     ]
    }
   ],
   "source": [
    "print('Finding connectivity')\n",
    "face_matches, outer_faces = connectivity_fast(blocks)\n",
    "[m.pop('match',None) for m in face_matches] # Remove the dataframe to save as pickle file \n",
    "print('Organizing split and outerfaces')\n",
    "all_faces = match_faces_dict_to_list(blocks,face_matches)\n",
    "all_faces.extend(outer_face_dict_to_list(blocks,outer_faces))\n",
    "all_faces = [m.to_dict() for m in all_faces]\n",
    "data = {\n",
    "            \"face_matches\":face_matches, \n",
    "            \"outer_faces\":outer_faces,\n",
    "            \"all_faces\":all_faces\n",
    "        }\n",
    "dump_data(data)"
   ]
  },
  {
   "attachments": {},
   "cell_type": "markdown",
   "metadata": {},
   "source": [
    "## Step 2: Build Block to Block connectivity matrix\n",
    "Block to block connectivity makes it easier to search for which blocks are connected. For example `print(c[10,4])` if this is 1 then that means blocks 10 and 4 are touching. \n",
    "\n",
    "Figure below shows an example of the connections for block 704. \n",
    "\n",
    "![block connectivity](tutorial_images/cmc009-block-connectivity.png)"
   ]
  },
  {
   "cell_type": "code",
   "execution_count": 5,
   "metadata": {},
   "outputs": [
    {
     "name": "stdout",
     "output_type": "stream",
     "text": [
      "Creating block connection matrix\n"
     ]
    },
    {
     "name": "stderr",
     "output_type": "stream",
     "text": [
      "Building block to block connectivity matrix: checking 233:  30%|██▉       | 308667/1033203 [24:06<56:36, 213.33it/s]  \n"
     ]
    },
    {
     "ename": "KeyboardInterrupt",
     "evalue": "",
     "output_type": "error",
     "traceback": [
      "\u001b[1;31m---------------------------------------------------------------------------\u001b[0m",
      "\u001b[1;31mKeyboardInterrupt\u001b[0m                         Traceback (most recent call last)",
      "Cell \u001b[1;32mIn [5], line 2\u001b[0m\n\u001b[0;32m      1\u001b[0m \u001b[39mprint\u001b[39m(\u001b[39m'\u001b[39m\u001b[39mCreating block connection matrix\u001b[39m\u001b[39m'\u001b[39m)\n\u001b[1;32m----> 2\u001b[0m c \u001b[39m=\u001b[39m block_connection_matrix(blocks,all_faces)\n\u001b[0;32m      3\u001b[0m data[\u001b[39m\"\u001b[39m\u001b[39mconnectivity_matrix\u001b[39m\u001b[39m\"\u001b[39m]\u001b[39m=\u001b[39mc\n\u001b[0;32m      4\u001b[0m dump_data(data)\n",
      "File \u001b[1;32mc:\\Users\\pjuangph\\Anaconda3\\envs\\tf2\\lib\\site-packages\\plot3d\\blockfunctions.py:144\u001b[0m, in \u001b[0;36mblock_connection_matrix\u001b[1;34m(blocks, outer_faces)\u001b[0m\n\u001b[0;32m    142\u001b[0m \u001b[39mfor\u001b[39;00m indx \u001b[39min\u001b[39;00m (pbar\u001b[39m:=\u001b[39mtrange(\u001b[39mlen\u001b[39m(combos))):\n\u001b[0;32m    143\u001b[0m     i,j \u001b[39m=\u001b[39m combos[indx]\n\u001b[1;32m--> 144\u001b[0m     pbar\u001b[39m.\u001b[39;49mset_description(\u001b[39mf\u001b[39;49m\u001b[39m\"\u001b[39;49m\u001b[39mBuilding block to block connectivity matrix: checking \u001b[39;49m\u001b[39m{\u001b[39;49;00mi\u001b[39m}\u001b[39;49;00m\u001b[39m\"\u001b[39;49m)\n\u001b[0;32m    145\u001b[0m     b1 \u001b[39m=\u001b[39m blocks[i]\n\u001b[0;32m    147\u001b[0m     \u001b[39mif\u001b[39;00m \u001b[39mlen\u001b[39m(outer_faces)\u001b[39m==\u001b[39m\u001b[39m0\u001b[39m:                     \u001b[39m# Get the outerfaces to search\u001b[39;00m\n",
      "File \u001b[1;32mc:\\Users\\pjuangph\\Anaconda3\\envs\\tf2\\lib\\site-packages\\tqdm\\std.py:1408\u001b[0m, in \u001b[0;36mtqdm.set_description\u001b[1;34m(self, desc, refresh)\u001b[0m\n\u001b[0;32m   1406\u001b[0m \u001b[39mself\u001b[39m\u001b[39m.\u001b[39mdesc \u001b[39m=\u001b[39m desc \u001b[39m+\u001b[39m \u001b[39m'\u001b[39m\u001b[39m: \u001b[39m\u001b[39m'\u001b[39m \u001b[39mif\u001b[39;00m desc \u001b[39melse\u001b[39;00m \u001b[39m'\u001b[39m\u001b[39m'\u001b[39m\n\u001b[0;32m   1407\u001b[0m \u001b[39mif\u001b[39;00m refresh:\n\u001b[1;32m-> 1408\u001b[0m     \u001b[39mself\u001b[39;49m\u001b[39m.\u001b[39;49mrefresh()\n",
      "File \u001b[1;32mc:\\Users\\pjuangph\\Anaconda3\\envs\\tf2\\lib\\site-packages\\tqdm\\std.py:1361\u001b[0m, in \u001b[0;36mtqdm.refresh\u001b[1;34m(self, nolock, lock_args)\u001b[0m\n\u001b[0;32m   1359\u001b[0m     \u001b[39melse\u001b[39;00m:\n\u001b[0;32m   1360\u001b[0m         \u001b[39mself\u001b[39m\u001b[39m.\u001b[39m_lock\u001b[39m.\u001b[39macquire()\n\u001b[1;32m-> 1361\u001b[0m \u001b[39mself\u001b[39;49m\u001b[39m.\u001b[39;49mdisplay()\n\u001b[0;32m   1362\u001b[0m \u001b[39mif\u001b[39;00m \u001b[39mnot\u001b[39;00m nolock:\n\u001b[0;32m   1363\u001b[0m     \u001b[39mself\u001b[39m\u001b[39m.\u001b[39m_lock\u001b[39m.\u001b[39mrelease()\n",
      "File \u001b[1;32mc:\\Users\\pjuangph\\Anaconda3\\envs\\tf2\\lib\\site-packages\\tqdm\\std.py:1509\u001b[0m, in \u001b[0;36mtqdm.display\u001b[1;34m(self, msg, pos)\u001b[0m\n\u001b[0;32m   1507\u001b[0m \u001b[39mif\u001b[39;00m pos:\n\u001b[0;32m   1508\u001b[0m     \u001b[39mself\u001b[39m\u001b[39m.\u001b[39mmoveto(pos)\n\u001b[1;32m-> 1509\u001b[0m \u001b[39mself\u001b[39;49m\u001b[39m.\u001b[39;49msp(\u001b[39mself\u001b[39;49m\u001b[39m.\u001b[39;49m\u001b[39m__str__\u001b[39;49m() \u001b[39mif\u001b[39;49;00m msg \u001b[39mis\u001b[39;49;00m \u001b[39mNone\u001b[39;49;00m \u001b[39melse\u001b[39;49;00m msg)\n\u001b[0;32m   1510\u001b[0m \u001b[39mif\u001b[39;00m pos:\n\u001b[0;32m   1511\u001b[0m     \u001b[39mself\u001b[39m\u001b[39m.\u001b[39mmoveto(\u001b[39m-\u001b[39mpos)\n",
      "File \u001b[1;32mc:\\Users\\pjuangph\\Anaconda3\\envs\\tf2\\lib\\site-packages\\tqdm\\std.py:350\u001b[0m, in \u001b[0;36mtqdm.status_printer.<locals>.print_status\u001b[1;34m(s)\u001b[0m\n\u001b[0;32m    348\u001b[0m \u001b[39mdef\u001b[39;00m \u001b[39mprint_status\u001b[39m(s):\n\u001b[0;32m    349\u001b[0m     len_s \u001b[39m=\u001b[39m disp_len(s)\n\u001b[1;32m--> 350\u001b[0m     fp_write(\u001b[39m'\u001b[39;49m\u001b[39m\\r\u001b[39;49;00m\u001b[39m'\u001b[39;49m \u001b[39m+\u001b[39;49m s \u001b[39m+\u001b[39;49m (\u001b[39m'\u001b[39;49m\u001b[39m \u001b[39;49m\u001b[39m'\u001b[39;49m \u001b[39m*\u001b[39;49m \u001b[39mmax\u001b[39;49m(last_len[\u001b[39m0\u001b[39;49m] \u001b[39m-\u001b[39;49m len_s, \u001b[39m0\u001b[39;49m)))\n\u001b[0;32m    351\u001b[0m     last_len[\u001b[39m0\u001b[39m] \u001b[39m=\u001b[39m len_s\n",
      "File \u001b[1;32mc:\\Users\\pjuangph\\Anaconda3\\envs\\tf2\\lib\\site-packages\\tqdm\\std.py:344\u001b[0m, in \u001b[0;36mtqdm.status_printer.<locals>.fp_write\u001b[1;34m(s)\u001b[0m\n\u001b[0;32m    342\u001b[0m \u001b[39mdef\u001b[39;00m \u001b[39mfp_write\u001b[39m(s):\n\u001b[0;32m    343\u001b[0m     fp\u001b[39m.\u001b[39mwrite(_unicode(s))\n\u001b[1;32m--> 344\u001b[0m     fp_flush()\n",
      "File \u001b[1;32mc:\\Users\\pjuangph\\Anaconda3\\envs\\tf2\\lib\\site-packages\\tqdm\\utils.py:145\u001b[0m, in \u001b[0;36mDisableOnWriteError.disable_on_exception.<locals>.inner\u001b[1;34m(*args, **kwargs)\u001b[0m\n\u001b[0;32m    143\u001b[0m \u001b[39mdef\u001b[39;00m \u001b[39minner\u001b[39m(\u001b[39m*\u001b[39margs, \u001b[39m*\u001b[39m\u001b[39m*\u001b[39mkwargs):\n\u001b[0;32m    144\u001b[0m     \u001b[39mtry\u001b[39;00m:\n\u001b[1;32m--> 145\u001b[0m         \u001b[39mreturn\u001b[39;00m func(\u001b[39m*\u001b[39margs, \u001b[39m*\u001b[39m\u001b[39m*\u001b[39mkwargs)\n\u001b[0;32m    146\u001b[0m     \u001b[39mexcept\u001b[39;00m \u001b[39mOSError\u001b[39;00m \u001b[39mas\u001b[39;00m e:\n\u001b[0;32m    147\u001b[0m         \u001b[39mif\u001b[39;00m e\u001b[39m.\u001b[39merrno \u001b[39m!=\u001b[39m \u001b[39m5\u001b[39m:\n",
      "File \u001b[1;32mc:\\Users\\pjuangph\\Anaconda3\\envs\\tf2\\lib\\site-packages\\ipykernel\\iostream.py:480\u001b[0m, in \u001b[0;36mOutStream.flush\u001b[1;34m(self)\u001b[0m\n\u001b[0;32m    478\u001b[0m     \u001b[39mself\u001b[39m\u001b[39m.\u001b[39mpub_thread\u001b[39m.\u001b[39mschedule(evt\u001b[39m.\u001b[39mset)\n\u001b[0;32m    479\u001b[0m     \u001b[39m# and give a timeout to avoid\u001b[39;00m\n\u001b[1;32m--> 480\u001b[0m     \u001b[39mif\u001b[39;00m \u001b[39mnot\u001b[39;00m evt\u001b[39m.\u001b[39;49mwait(\u001b[39mself\u001b[39;49m\u001b[39m.\u001b[39;49mflush_timeout):\n\u001b[0;32m    481\u001b[0m         \u001b[39m# write directly to __stderr__ instead of warning because\u001b[39;00m\n\u001b[0;32m    482\u001b[0m         \u001b[39m# if this is happening sys.stderr may be the problem.\u001b[39;00m\n\u001b[0;32m    483\u001b[0m         \u001b[39mprint\u001b[39m(\u001b[39m\"\u001b[39m\u001b[39mIOStream.flush timed out\u001b[39m\u001b[39m\"\u001b[39m, file\u001b[39m=\u001b[39msys\u001b[39m.\u001b[39m__stderr__)\n\u001b[0;32m    484\u001b[0m \u001b[39melse\u001b[39;00m:\n",
      "File \u001b[1;32mc:\\Users\\pjuangph\\Anaconda3\\envs\\tf2\\lib\\threading.py:607\u001b[0m, in \u001b[0;36mEvent.wait\u001b[1;34m(self, timeout)\u001b[0m\n\u001b[0;32m    605\u001b[0m signaled \u001b[39m=\u001b[39m \u001b[39mself\u001b[39m\u001b[39m.\u001b[39m_flag\n\u001b[0;32m    606\u001b[0m \u001b[39mif\u001b[39;00m \u001b[39mnot\u001b[39;00m signaled:\n\u001b[1;32m--> 607\u001b[0m     signaled \u001b[39m=\u001b[39m \u001b[39mself\u001b[39;49m\u001b[39m.\u001b[39;49m_cond\u001b[39m.\u001b[39;49mwait(timeout)\n\u001b[0;32m    608\u001b[0m \u001b[39mreturn\u001b[39;00m signaled\n",
      "File \u001b[1;32mc:\\Users\\pjuangph\\Anaconda3\\envs\\tf2\\lib\\threading.py:324\u001b[0m, in \u001b[0;36mCondition.wait\u001b[1;34m(self, timeout)\u001b[0m\n\u001b[0;32m    322\u001b[0m \u001b[39melse\u001b[39;00m:\n\u001b[0;32m    323\u001b[0m     \u001b[39mif\u001b[39;00m timeout \u001b[39m>\u001b[39m \u001b[39m0\u001b[39m:\n\u001b[1;32m--> 324\u001b[0m         gotit \u001b[39m=\u001b[39m waiter\u001b[39m.\u001b[39;49macquire(\u001b[39mTrue\u001b[39;49;00m, timeout)\n\u001b[0;32m    325\u001b[0m     \u001b[39melse\u001b[39;00m:\n\u001b[0;32m    326\u001b[0m         gotit \u001b[39m=\u001b[39m waiter\u001b[39m.\u001b[39macquire(\u001b[39mFalse\u001b[39;00m)\n",
      "\u001b[1;31mKeyboardInterrupt\u001b[0m: "
     ]
    }
   ],
   "source": [
    "print('Creating block connection matrix')\n",
    "c = block_connection_matrix(blocks,all_faces)\n",
    "data[\"connectivity_matrix\"]=c\n",
    "dump_data(data)"
   ]
  },
  {
   "attachments": {},
   "cell_type": "markdown",
   "metadata": {},
   "source": [
    "## Step 3: Find bounding faces\n",
    "These are faces on either the left or right side of the block."
   ]
  },
  {
   "cell_type": "code",
   "execution_count": null,
   "metadata": {},
   "outputs": [],
   "source": [
    "data = read_data()    \n",
    "all_faces = data['all_faces']\n",
    "connectivity_matrix = data['connectivity_matrix']\n",
    "\n",
    "#%% Find bounding Faces\n",
    "lower_bound, upper_bound,_,_ = find_bounding_faces(blocks,connectivity_matrix,all_faces,\"z\")\n",
    "left_bound, right_bound,_,_ = find_bounding_faces(blocks,connectivity_matrix,all_faces,\"y\")\n",
    "data['lower_bound'] = lower_bound\n",
    "data['upper_bound'] = upper_bound\n",
    "data['left_bound'] = left_bound\n",
    "data['right_bound'] = right_bound\n",
    "dump_data(data)"
   ]
  },
  {
   "attachments": {},
   "cell_type": "markdown",
   "metadata": {},
   "source": [
    "## Step 4: Find Periodicity\n",
    "In this step we determine the connected faces in the y-direction as well as the z-direction. The program will automatically inform the user if it's not periodic due to not all faces matching. If this is the case then the faces should be plotted using paraview and the user needs to check with their grid generator or manually add in the connectivity. "
   ]
  },
  {
   "cell_type": "code",
   "execution_count": null,
   "metadata": {},
   "outputs": [
    {
     "name": "stderr",
     "output_type": "stream",
     "text": [
      "Checking connections block 249 with 158:   0%|          | 0/71 [00:07<?, ?it/s]\n"
     ]
    },
    {
     "name": "stdout",
     "output_type": "stream",
     "text": [
      "\n",
      "Not periodic y\n"
     ]
    },
    {
     "name": "stderr",
     "output_type": "stream",
     "text": [
      "Checking connections block 630 with 27:   0%|          | 0/420 [00:18<?, ?it/s] "
     ]
    }
   ],
   "source": [
    "#%% Use bounding faces to find periodicity\n",
    "data = read_data()\n",
    "lower_bound = data['lower_bound']; upper_bound = data['upper_bound']\n",
    "left_bound = data['left_bound']; right_bound = data['right_bound']\n",
    "y_periodic_faces_export, periodic_faces = translational_periodicity(blocks,left_bound,right_bound,5.119,translational_direction='y')\n",
    "z_periodic_faces_export, periodic_faces = translational_periodicity(blocks,lower_bound,upper_bound,translational_direction='z')\n",
    "data['z_periodic'] = z_periodic_faces_export\n",
    "data['y_periodic'] = y_periodic_faces_export\n",
    "dump_data(data)\n",
    "\n",
    "#%%  Lets check with faces are not periodic in the y-direction\n",
    "data = read_data()\n",
    "y_periodic_faces_export = data['y_periodic']\n",
    "left_bound = data['left_bound']; right_bound = data['right_bound']\n",
    "\n",
    "left_periodic_blocks_found = [p['block1']['block_index'] for p in y_periodic_faces_export]\n",
    "left_faces_missing = [l for l in left_bound if l['block_index'] not in left_periodic_blocks_found]\n",
    "print(f'Left faces missing {len(left_faces_missing)}')\n",
    "[print(l) for l in left_faces_missing]\n",
    "\n",
    "right_periodic_blocks_found = [p['block2']['block_index'] for p in y_periodic_faces_export]\n",
    "right_faces_missing = [r for r in right_bound if r['block_index'] not in right_periodic_blocks_found]\n",
    "print(f'Right faces missing  {len(right_faces_missing)}')\n",
    "[print(r) for r in right_faces_missing]"
   ]
  },
  {
   "attachments": {},
   "cell_type": "markdown",
   "metadata": {},
   "source": [
    "![y-periodic](tutorial_images/cmc009-y-periodic.png)"
   ]
  },
  {
   "attachments": {},
   "cell_type": "markdown",
   "metadata": {},
   "source": [
    "## Creating a GlennHT Connectivity file\n",
    "Translated periodicity or any periodicity will go into the section for Matched Faces\n",
    "\n",
    "![connectivity matched faces](tutorial_images/glennht_connectivity1.png)"
   ]
  },
  {
   "cell_type": "code",
   "execution_count": 9,
   "metadata": {},
   "outputs": [],
   "source": [
    "blocks = read_plot3D(mesh_file,True)"
   ]
  },
  {
   "attachments": {},
   "cell_type": "markdown",
   "metadata": {},
   "source": [
    "Note: Some of the outerfaces can be part of the periodicty. The code below shows how to filter the outerfaces to remove anything that is now periodic."
   ]
  },
  {
   "cell_type": "code",
   "execution_count": null,
   "metadata": {},
   "outputs": [],
   "source": [
    "from glennht_con import export_to_glennht_conn\n",
    "data = read_data()\n",
    "matches = data['y_periodic']\n",
    "matches.extend(data['z_periodic'])\n",
    "outer_faces = data['outer_faces']\n",
    "\n",
    "match_faces = match_faces_dict_to_list(blocks,matches)\n",
    "match_faces.extend(match_faces_dict_to_list(blocks,data['face_matches']))\n",
    "\n",
    "outer_faces = outer_face_dict_to_list(blocks,outer_faces)\n",
    "outer_faces = [o.to_dict() for o in outer_faces if o not in match_faces]\n",
    "\n",
    "export_to_glennht_conn(matches=matches,block_surfaces=outer_faces,filename='CMC009')"
   ]
  }
 ],
 "metadata": {
  "kernelspec": {
   "display_name": "tf2",
   "language": "python",
   "name": "python3"
  },
  "language_info": {
   "codemirror_mode": {
    "name": "ipython",
    "version": 3
   },
   "file_extension": ".py",
   "mimetype": "text/x-python",
   "name": "python",
   "nbconvert_exporter": "python",
   "pygments_lexer": "ipython3",
   "version": "3.10.8"
  },
  "orig_nbformat": 4,
  "vscode": {
   "interpreter": {
    "hash": "2f8768af6f2432629ed2c7b1bb9f42f06f05a0e0aa992f83897492e57b393a9f"
   }
  }
 },
 "nbformat": 4,
 "nbformat_minor": 2
}
