{
 "cells": [
  {
   "cell_type": "markdown",
   "metadata": {},
   "source": [
    "# Converting Plot3D to NetworkX Graph Format"
   ]
  },
  {
   "cell_type": "markdown",
   "metadata": {},
   "source": [
    "This tutorial shows how to convert legacy plot3D block structure to a graph format. \n",
    "The figure below shows the numbering of a block.\n",
    "\n",
    "<div>\n",
    "<img src=\"./nodes_edges.jpg\" width=\"800\"/>\n",
    "</div>\n",
    "\n",
    "You can create a similar blocking structure in the code below\n"
   ]
  },
  {
   "cell_type": "code",
   "execution_count": null,
   "metadata": {},
   "outputs": [],
   "source": [
    "!pip install plot3d"
   ]
  },
  {
   "cell_type": "code",
   "execution_count": null,
   "metadata": {},
   "outputs": [],
   "source": [
    "import numpy as np\n",
    "import networkx as nx \n",
    "from plot3d import read_plot3D\n",
    "from plot3d.graph import block_to_graph, get_face_vertex_indices, add_connectivity_to_graph"
   ]
  },
  {
   "cell_type": "code",
   "execution_count": null,
   "metadata": {},
   "outputs": [],
   "source": [
    "IMAX = 4\n",
    "JMAX = 6\n",
    "KMAX = 3\n",
    "\n",
    "A = np.arange(IMAX*JMAX*KMAX).reshape((KMAX,JMAX,IMAX))\n",
    "A = np.transpose(A,[2,1,0]) \n",
    "A_flat = A.flatten(order='F')"
   ]
  },
  {
   "cell_type": "code",
   "execution_count": null,
   "metadata": {},
   "outputs": [],
   "source": [
    "print(A)"
   ]
  },
  {
   "cell_type": "markdown",
   "metadata": {},
   "source": [
    "The code below shows how Plot3D can create a graph structure representation of a block.\n",
    "In each of these examples, it's important to step through the code to see how the edges are defined. Use a small block to test. Then you are ready to use larger block sizes. "
   ]
  },
  {
   "cell_type": "code",
   "execution_count": null,
   "metadata": {},
   "outputs": [],
   "source": [
    "# Create a block\n",
    "G1 = block_to_graph(IMAX,JMAX,KMAX)\n",
    "# Create another block but offset indices from the first block\n",
    "G2 = block_to_graph(IMAX,JMAX,KMAX,IMAX*JMAX*KMAX)"
   ]
  },
  {
   "cell_type": "code",
   "execution_count": null,
   "metadata": {},
   "outputs": [],
   "source": [
    "# Test get face vertex indices \n",
    "indices_imin_face = get_face_vertex_indices(0,0,0,0,JMAX,KMAX,(IMAX,JMAX,KMAX))       # Constant IMIN Face\n",
    "indices_imax_face = get_face_vertex_indices(IMAX,0,0,IMAX,JMAX,KMAX,(IMAX,JMAX,KMAX)) # Constant IMAX Face\n",
    "\n",
    "indices_jmin_face = get_face_vertex_indices(0,0,0,IMAX,0,KMAX,(IMAX,JMAX,KMAX))       # Constant JMIN Face\n",
    "indices_jmax_face = get_face_vertex_indices(0,JMAX,0,IMAX,JMAX,KMAX,(IMAX,JMAX,KMAX)) # Constant JMAX Face\n",
    "\n",
    "indices_kmin_face = get_face_vertex_indices(0,0,0,IMAX,JMAX,0,(IMAX,JMAX,KMAX))       # Constant KMIN Face\n",
    "indices_kmax_face = get_face_vertex_indices(0,0,KMAX,IMAX,JMAX,KMAX,(IMAX,JMAX,KMAX)) # Constant KMAX Face\n",
    "\n",
    "indices_jmin_face_reverseI = get_face_vertex_indices(IMAX,0,0,0,0,KMAX,(IMAX,JMAX,KMAX))       # Constant JMIN Face, reversing direction of I"
   ]
  },
  {
   "cell_type": "code",
   "execution_count": null,
   "metadata": {},
   "outputs": [],
   "source": [
    "# Test Connectivity \n",
    "G1 = block_to_graph(IMAX,JMAX,KMAX)\n",
    "G2 = block_to_graph(IMAX,JMAX,KMAX,IMAX*JMAX*KMAX)\n",
    "G = nx.compose_all([G1,G2])"
   ]
  },
  {
   "cell_type": "markdown",
   "metadata": {},
   "source": [
    "## Handling Connectivity \n",
    "\n",
    "<div>\n",
    "<img src=\"./connectivity.jpg\" width=\"800\"/>\n",
    "</div>"
   ]
  },
  {
   "cell_type": "markdown",
   "metadata": {},
   "source": [
    "Code below shows how plot3d handles connectivity. Connectivity is stored in a dictionary format containing block to block connectivity along with the diagonals of where the connection occurs. "
   ]
  },
  {
   "cell_type": "code",
   "execution_count": null,
   "metadata": {},
   "outputs": [],
   "source": [
    "# Block 0 and Block 0 share a top face\n",
    "interblock_k_connectivity = [{\n",
    "    'block1': \n",
    "            {\n",
    "                'index':0,\n",
    "                'IMIN':0,'IMAX':IMAX,\n",
    "                'JMIN':0,'JMAX':JMAX,\n",
    "                'KMIN':0,'KMAX':0\n",
    "            },\n",
    "    'block2': \n",
    "            {\n",
    "                'index':0,\n",
    "                'IMIN':0,'IMAX':IMAX,\n",
    "                'JMIN':0,'JMAX':JMAX,\n",
    "                'KMIN':KMAX,'KMAX':KMAX\n",
    "            }\n",
    "    }]\n",
    "\n",
    "interblock_i_connectivity = [{\n",
    "    'block1': \n",
    "            {\n",
    "                'index':0,\n",
    "                'IMIN':0,'IMAX':0,\n",
    "                'JMIN':0,'JMAX':JMAX,\n",
    "                'KMIN':0,'KMAX':KMAX\n",
    "            },\n",
    "    'block2': \n",
    "            {\n",
    "                'index':0,\n",
    "                'IMIN':IMAX,'IMAX':IMAX,\n",
    "                'JMIN':0,'JMAX':JMAX,\n",
    "                'KMIN':0,'KMAX':KMAX\n",
    "            }\n",
    "}]\n",
    "\n",
    "block_to_block_connectivity = [{\n",
    "    'block1': \n",
    "            {\n",
    "                'index':0,\n",
    "                'IMIN':0,'IMAX':0,\n",
    "                'JMIN':0,'JMAX':JMAX,\n",
    "                'KMIN':0,'KMAX':KMAX\n",
    "            },\n",
    "    'block2': \n",
    "            {\n",
    "                'index':1,\n",
    "                'IMIN':IMAX,'IMAX':IMAX,\n",
    "                'JMIN':0,'JMAX':JMAX,\n",
    "                'KMIN':0,'KMAX':KMAX\n",
    "            }\n",
    "}]"
   ]
  },
  {
   "cell_type": "markdown",
   "metadata": {},
   "source": [
    "`add_connectivity_to_graph` creates the edge to edge connection. For a single block where one face connects to the opposite end kind of like the video game portal. This is a simple edge. \n",
    "\n",
    "When you have two different blocks touching, what happens is the nodes are linked then deleted so there are no duplicate nodes. "
   ]
  },
  {
   "cell_type": "code",
   "execution_count": null,
   "metadata": {},
   "outputs": [],
   "source": [
    "block_sizes = [(IMAX,JMAX,KMAX),(IMAX,JMAX,KMAX)]\n",
    "G_i_connectivity = add_connectivity_to_graph(G,block_sizes,interblock_i_connectivity)\n",
    "G_k_connectivity = add_connectivity_to_graph(G,block_sizes,interblock_k_connectivity)\n"
   ]
  },
  {
   "cell_type": "code",
   "execution_count": null,
   "metadata": {},
   "outputs": [],
   "source": [
    "# Block to Block connectivity \n",
    "G1 = block_to_graph(IMAX,JMAX,KMAX)\n",
    "G2 = block_to_graph(IMAX,JMAX,KMAX,IMAX*JMAX*KMAX)\n",
    "G = nx.compose_all([G1,G2])\n",
    "G = add_connectivity_to_graph(G,block_sizes,block_to_block_connectivity)"
   ]
  },
  {
   "cell_type": "markdown",
   "metadata": {},
   "source": [
    "## Removing Duplicate vertices \n",
    "\n",
    "The code in `add_connectivity_to_graph` does not handle the removal of duplication vertices show in the picture below. Once the vertices are removed the edges have to be re-indexed \n",
    "\n",
    "<div>\n",
    "<img src=\"./reorder_indices.jpg\" width=\"800\"/>\n",
    "</div>\n",
    "\n",
    "Edges have to be replaced and reindexed.\n",
    "<div>\n",
    "<img src=\"./edges_replaced.jpg\" width=\"800\"/>\n",
    "</div>"
   ]
  },
  {
   "cell_type": "code",
   "execution_count": null,
   "metadata": {},
   "outputs": [],
   "source": []
  }
 ],
 "metadata": {
  "kernelspec": {
   "display_name": "dev",
   "language": "python",
   "name": "python3"
  },
  "language_info": {
   "codemirror_mode": {
    "name": "ipython",
    "version": 3
   },
   "file_extension": ".py",
   "mimetype": "text/x-python",
   "name": "python",
   "nbconvert_exporter": "python",
   "pygments_lexer": "ipython3",
   "version": "3.11.9"
  }
 },
 "nbformat": 4,
 "nbformat_minor": 2
}
