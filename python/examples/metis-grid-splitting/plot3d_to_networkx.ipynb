{
 "cells": [
  {
   "cell_type": "markdown",
   "metadata": {},
   "source": [
    "# Converting Plot3D to NetworkX Graph Format"
   ]
  },
  {
   "cell_type": "markdown",
   "metadata": {},
   "source": [
    "This tutorial shows how to convert legacy plot3D block structure to a graph format. \n",
    "The figure below shows the numbering of a block.\n",
    "\n",
    "<div>\n",
    "<img src=\"./nodes_edges.jpg\" width=\"800\"/>\n",
    "</div>\n",
    "\n",
    "You can create a similar blocking structure in the code below\n"
   ]
  },
  {
   "cell_type": "code",
   "execution_count": null,
   "metadata": {},
   "outputs": [],
   "source": [
    "import numpy as np\n",
    "import networkx as nx \n",
    "from plot3d import read_plot3D\n",
    "from plot3d.graph import block_to_graph, get_face_vertex_indices, add_connectivity_to_graph"
   ]
  },
  {
   "cell_type": "code",
   "execution_count": null,
   "metadata": {},
   "outputs": [],
   "source": [
    "IMAX = 4\n",
    "JMAX = 6\n",
    "KMAX = 3\n",
    "\n",
    "A = np.arange(IMAX*JMAX*KMAX).reshape((KMAX,JMAX,IMAX))\n",
    "A = np.transpose(A,[2,1,0]) \n",
    "A_flat = A.flatten(order='F')"
   ]
  },
  {
   "cell_type": "markdown",
   "metadata": {},
   "source": [
    "The code below shows how Plot3D can create a graph structure representation of a block. "
   ]
  },
  {
   "cell_type": "code",
   "execution_count": null,
   "metadata": {},
   "outputs": [],
   "source": [
    "G1 = block_to_graph(IMAX,JMAX,KMAX)\n",
    "G2 = block_to_graph(IMAX,JMAX,KMAX,IMAX*JMAX*KMAX)"
   ]
  }
 ],
 "metadata": {
  "kernelspec": {
   "display_name": "dev",
   "language": "python",
   "name": "python3"
  },
  "language_info": {
   "codemirror_mode": {
    "name": "ipython",
    "version": 3
   },
   "file_extension": ".py",
   "mimetype": "text/x-python",
   "name": "python",
   "nbconvert_exporter": "python",
   "pygments_lexer": "ipython3",
   "version": "3.11.5"
  }
 },
 "nbformat": 4,
 "nbformat_minor": 2
}
