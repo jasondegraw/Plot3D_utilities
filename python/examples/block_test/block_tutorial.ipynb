{
 "cells": [
  {
   "attachments": {},
   "cell_type": "markdown",
   "metadata": {},
   "source": [
    "# Translated Periodicity using a simple Block\n",
    "The mesh shown below has periodic faces on the z and y axis. The code below shows how we find the translated periodicity in the y and z directions.\n",
    "\n",
    "Steps Overview\n",
    "1. Find Connectivity - This splits the faces of all the blocks so that they match \n",
    "2. Build the Block connectivity matrix using connectivity - Uses the split faces to determine which blocks are connected. value of 1 = connected, 0 = not searched yet, -1 = not connected \n",
    "3. Search for connected faces on the z and y axis - Uses the block connectivity to find the outer connected faces. So, all the top faces for instance. \n",
    "4. Find translated periodicity - Uses the connected faces e.g. the left and right, or top and bottom, or front and back. Checks the connected faces to see if any of them match faces from the other side. \n",
    "\n",
    "![image.png](tutorial_images/block-overview.png)"
   ]
  },
  {
   "cell_type": "code",
   "execution_count": 9,
   "metadata": {},
   "outputs": [
    {
     "name": "stdout",
     "output_type": "stream",
     "text": [
      "Requirement already satisfied: plot3d in c:\\users\\pjuangph\\anaconda3\\envs\\tf2\\lib\\site-packages (1.5.8)\n",
      "Requirement already satisfied: tqdm in c:\\users\\pjuangph\\anaconda3\\envs\\tf2\\lib\\site-packages (from plot3d) (4.64.1)\n",
      "Requirement already satisfied: pandas in c:\\users\\pjuangph\\anaconda3\\envs\\tf2\\lib\\site-packages (from plot3d) (1.5.1)\n",
      "Requirement already satisfied: scipy in c:\\users\\pjuangph\\anaconda3\\envs\\tf2\\lib\\site-packages (from plot3d) (1.9.3)\n",
      "Requirement already satisfied: numpy in c:\\users\\pjuangph\\anaconda3\\envs\\tf2\\lib\\site-packages (from plot3d) (1.23.4)\n",
      "Requirement already satisfied: python-dateutil>=2.8.1 in c:\\users\\pjuangph\\anaconda3\\envs\\tf2\\lib\\site-packages (from pandas->plot3d) (2.8.2)\n",
      "Requirement already satisfied: pytz>=2020.1 in c:\\users\\pjuangph\\anaconda3\\envs\\tf2\\lib\\site-packages (from pandas->plot3d) (2022.6)\n",
      "Requirement already satisfied: colorama in c:\\users\\pjuangph\\anaconda3\\envs\\tf2\\lib\\site-packages (from tqdm->plot3d) (0.4.6)\n",
      "Requirement already satisfied: six>=1.5 in c:\\users\\pjuangph\\anaconda3\\envs\\tf2\\lib\\site-packages (from python-dateutil>=2.8.1->pandas->plot3d) (1.16.0)\n"
     ]
    }
   ],
   "source": [
    "# Install Plot3D\n",
    "!pip install plot3d"
   ]
  },
  {
   "cell_type": "code",
   "execution_count": 1,
   "metadata": {},
   "outputs": [
    {
     "ename": "ModuleNotFoundError",
     "evalue": "No module named 'plot3d'",
     "output_type": "error",
     "traceback": [
      "\u001b[1;31m---------------------------------------------------------------------------\u001b[0m",
      "\u001b[1;31mModuleNotFoundError\u001b[0m                       Traceback (most recent call last)",
      "Cell \u001b[1;32mIn [1], line 3\u001b[0m\n\u001b[0;32m      1\u001b[0m \u001b[39m# Import functions\u001b[39;00m\n\u001b[0;32m      2\u001b[0m \u001b[39mimport\u001b[39;00m \u001b[39mos\u001b[39;00m\u001b[39m,\u001b[39m \u001b[39mpickle\u001b[39;00m\n\u001b[1;32m----> 3\u001b[0m \u001b[39mfrom\u001b[39;00m \u001b[39mplot3d\u001b[39;00m \u001b[39mimport\u001b[39;00m read_plot3D, connectivity_fast,translational_periodicity, write_plot3D, Direction, split_blocks, block_connection_matrix, find_bounding_faces\n\u001b[0;32m      4\u001b[0m \u001b[39mfrom\u001b[39;00m \u001b[39mplot3d\u001b[39;00m \u001b[39mimport\u001b[39;00m outer_face_dict_to_list, match_faces_dict_to_list\n\u001b[0;32m      5\u001b[0m \u001b[39mimport\u001b[39;00m \u001b[39mnumpy\u001b[39;00m \u001b[39mas\u001b[39;00m \u001b[39mnp\u001b[39;00m\n",
      "\u001b[1;31mModuleNotFoundError\u001b[0m: No module named 'plot3d'"
     ]
    }
   ],
   "source": [
    "# Import functions\n",
    "import os, pickle\n",
    "from plot3d import read_plot3D, connectivity_fast,translational_periodicity, write_plot3D, Direction, split_blocks, block_connection_matrix, find_bounding_faces\n",
    "from plot3d import outer_face_dict_to_list, match_faces_dict_to_list\n",
    "import numpy as np\n",
    "data_file = 'block_data.pickle'\n",
    "mesh_file = 'iso65_64blocks.xyz'\n",
    "#%% Find connectivity \n",
    "def dump_data(data):\n",
    "    with open('block_data.pickle','wb') as f:\n",
    "        pickle.dump(data,f)\n",
    "\n",
    "def read_data():\n",
    "    with open('block_data.pickle','rb') as f:\n",
    "        return pickle.load(f)\n"
   ]
  },
  {
   "cell_type": "code",
   "execution_count": 12,
   "metadata": {},
   "outputs": [
    {
     "name": "stdout",
     "output_type": "stream",
     "text": [
      "Number of blocks: 64\n"
     ]
    }
   ],
   "source": [
    "# Load the mesh\n",
    "blocks = read_plot3D(mesh_file,True)\n",
    "n = len(blocks)\n",
    "print(f'Number of blocks: {n}')"
   ]
  },
  {
   "attachments": {},
   "cell_type": "markdown",
   "metadata": {},
   "source": [
    "## Step 1: Find Connectivity\n",
    "The code below finds the connectivity and creates the pickle file storing the connectivity "
   ]
  },
  {
   "cell_type": "code",
   "execution_count": 13,
   "metadata": {},
   "outputs": [
    {
     "name": "stdout",
     "output_type": "stream",
     "text": [
      "Finding connectivity\n",
      "gcd to use 16\n"
     ]
    },
    {
     "name": "stderr",
     "output_type": "stream",
     "text": [
      "Finding nearest blocks comparing 62 with 63: 100%|██████████| 2016/2016 [00:05<00:00, 369.23it/s]\n",
      "Checking connections block 62 with 63: 100%|██████████| 363/363 [00:14<00:00, 24.22it/s]\n"
     ]
    },
    {
     "name": "stdout",
     "output_type": "stream",
     "text": [
      "Organizing split and outerfaces\n"
     ]
    }
   ],
   "source": [
    "print('Finding connectivity')\n",
    "face_matches, outer_faces = connectivity_fast(blocks)\n",
    "[m.pop('match',None) for m in face_matches] # Remove the dataframe\n",
    "print('Organizing split and outerfaces')\n",
    "all_faces = match_faces_dict_to_list(blocks,face_matches)\n",
    "all_faces.extend(outer_face_dict_to_list(blocks,outer_faces))\n",
    "all_faces = [m.to_dict() for m in all_faces]\n",
    "data = {\n",
    "            \"face_matches\":face_matches, \n",
    "            \"outer_faces\":outer_faces,\n",
    "            \"all_faces\":all_faces\n",
    "        }\n",
    "dump_data(data)"
   ]
  },
  {
   "attachments": {},
   "cell_type": "markdown",
   "metadata": {},
   "source": [
    "## Step 2: Build Block to Block connectivity matrix\n",
    "Block to block connectivity makes it easier to search for which blocks are connected. For example `print(c[10,4])` if this is 1 then that means blocks 10 and 4 are touching. "
   ]
  },
  {
   "cell_type": "code",
   "execution_count": 14,
   "metadata": {},
   "outputs": [
    {
     "name": "stdout",
     "output_type": "stream",
     "text": [
      "Creating block connection matrix\n"
     ]
    },
    {
     "name": "stderr",
     "output_type": "stream",
     "text": [
      "Building block to block connectivity matrix: checking 62: 100%|██████████| 2016/2016 [00:02<00:00, 881.12it/s]\n"
     ]
    }
   ],
   "source": [
    "print('Creating block connection matrix')\n",
    "c = block_connection_matrix(blocks,all_faces)\n",
    "data[\"connectivity_matrix\"]=c\n",
    "dump_data(data)"
   ]
  },
  {
   "attachments": {},
   "cell_type": "markdown",
   "metadata": {},
   "source": [
    "These are the blocks where block 2 is connected to. We have blocks 0,3,6, and 16. Block 2 is automtically connected with itself. "
   ]
  },
  {
   "cell_type": "code",
   "execution_count": 16,
   "metadata": {},
   "outputs": [
    {
     "name": "stdout",
     "output_type": "stream",
     "text": [
      "connectivity matrix shape: 64 by 64\n"
     ]
    },
    {
     "data": {
      "text/plain": [
       "(array([ 0,  2,  3,  6, 16], dtype=int64),)"
      ]
     },
     "execution_count": 16,
     "metadata": {},
     "output_type": "execute_result"
    }
   ],
   "source": [
    "print(\"connectivity matrix shape: \" + str(c.shape[0]) + ' by ' + str(c.shape[1]))\n",
    "np.where(c[2,:]==1)"
   ]
  },
  {
   "attachments": {},
   "cell_type": "markdown",
   "metadata": {},
   "source": [
    "## Step 3: Find bounding faces\n",
    "These are faces on either the left or right side of the block."
   ]
  },
  {
   "cell_type": "code",
   "execution_count": 20,
   "metadata": {},
   "outputs": [],
   "source": [
    "data = read_data()    \n",
    "all_faces = data['all_faces']\n",
    "connectivity_matrix = data['connectivity_matrix']\n",
    "\n",
    "#%% Find bounding Faces\n",
    "forward_bound, backward_bound,_,_ = find_bounding_faces(blocks,connectivity_matrix,all_faces,\"x\")\n",
    "lower_bound, upper_bound,_,_ = find_bounding_faces(blocks,connectivity_matrix,all_faces,\"z\")\n",
    "left_bound, right_bound,_,_ = find_bounding_faces(blocks,connectivity_matrix,all_faces,\"y\")\n",
    "data['forward_bound'] = forward_bound\n",
    "data['backward_bound'] = backward_bound\n",
    "data['lower_bound'] = lower_bound\n",
    "data['upper_bound'] = upper_bound\n",
    "data['left_bound'] = left_bound\n",
    "data['right_bound'] = right_bound\n",
    "dump_data(data)"
   ]
  },
  {
   "attachments": {},
   "cell_type": "markdown",
   "metadata": {},
   "source": [
    "## Step 4: Find Periodicity\n",
    "In this step we determine the connected faces in the y-direction as well as the z-direction. The program will automatically inform the user if it's not periodic due to not all faces matching. If this is the case then the faces should be plotted using paraview and the user needs to check with their grid generator or manually add in the connectivity. "
   ]
  },
  {
   "cell_type": "code",
   "execution_count": 21,
   "metadata": {},
   "outputs": [
    {
     "name": "stderr",
     "output_type": "stream",
     "text": [
      "Checking connections block 32 with 41: 100%|██████████| 16/16 [00:00<00:00, 29.74it/s]\n"
     ]
    },
    {
     "name": "stdout",
     "output_type": "stream",
     "text": [
      "\n",
      "Periodic x\n"
     ]
    },
    {
     "name": "stderr",
     "output_type": "stream",
     "text": [
      "Checking connections block 27 with 63: 100%|██████████| 16/16 [00:00<00:00, 34.63it/s]\n"
     ]
    },
    {
     "name": "stdout",
     "output_type": "stream",
     "text": [
      "check\n",
      "\n",
      "Periodic y\n"
     ]
    },
    {
     "name": "stderr",
     "output_type": "stream",
     "text": [
      "Checking connections block 45 with 63: 100%|██████████| 16/16 [00:00<00:00, 22.69it/s]"
     ]
    },
    {
     "name": "stdout",
     "output_type": "stream",
     "text": [
      "\n",
      "Periodic z\n"
     ]
    },
    {
     "name": "stderr",
     "output_type": "stream",
     "text": [
      "\n"
     ]
    }
   ],
   "source": [
    "#%% Use bounding faces to find periodicity\n",
    "data = read_data()\n",
    "forward_bound = data['forward_bound']; backward_bound = data['backward_bound']\n",
    "lower_bound = data['lower_bound']; upper_bound = data['upper_bound']\n",
    "left_bound = data['left_bound']; right_bound = data['right_bound']\n",
    "x_periodic_faces_export, periodic_faces = translational_periodicity(blocks,forward_bound,backward_bound,translational_direction='x')\n",
    "y_periodic_faces_export, periodic_faces = translational_periodicity(blocks,left_bound,right_bound,translational_direction='y')\n",
    "z_periodic_faces_export, periodic_faces = translational_periodicity(blocks,lower_bound,upper_bound,translational_direction='z')\n",
    "data['x_periodic'] = x_periodic_faces_export\n",
    "data['z_periodic'] = z_periodic_faces_export\n",
    "data['y_periodic'] = y_periodic_faces_export\n",
    "dump_data(data)"
   ]
  },
  {
   "attachments": {},
   "cell_type": "markdown",
   "metadata": {},
   "source": [
    "# Export Data to GlennHT connectivity format"
   ]
  },
  {
   "cell_type": "code",
   "execution_count": 22,
   "metadata": {},
   "outputs": [],
   "source": [
    "blocks = read_plot3D(mesh_file,True)"
   ]
  },
  {
   "cell_type": "code",
   "execution_count": 27,
   "metadata": {},
   "outputs": [],
   "source": [
    "from glennht_con import export_to_glennht_conn\n",
    "data = read_data()\n",
    "matches = data['x_periodic']\n",
    "matches.extend(data['y_periodic'])\n",
    "matches.extend(data['z_periodic'])\n",
    "\n",
    "outer_faces = data['outer_faces']\n",
    "\n",
    "match_faces = match_faces_dict_to_list(blocks,matches)\n",
    "match_faces.extend(match_faces_dict_to_list(blocks,data['face_matches']))\n",
    "\n",
    "outer_faces = outer_face_dict_to_list(blocks,outer_faces)\n",
    "\n",
    "outer_faces = [o.to_dict() for o in outer_faces if o not in match_faces]\n",
    "data['outer_faces_final'] = outer_faces\n",
    "dump_data(data)\n",
    "export_to_glennht_conn(matches=matches,block_surfaces=outer_faces,filename='block')"
   ]
  }
 ],
 "metadata": {
  "kernelspec": {
   "display_name": "tf2",
   "language": "python",
   "name": "python3"
  },
  "language_info": {
   "codemirror_mode": {
    "name": "ipython",
    "version": 3
   },
   "file_extension": ".py",
   "mimetype": "text/x-python",
   "name": "python",
   "nbconvert_exporter": "python",
   "pygments_lexer": "ipython3",
   "version": "3.10.8"
  },
  "orig_nbformat": 4,
  "vscode": {
   "interpreter": {
    "hash": "2f8768af6f2432629ed2c7b1bb9f42f06f05a0e0aa992f83897492e57b393a9f"
   }
  }
 },
 "nbformat": 4,
 "nbformat_minor": 2
}
